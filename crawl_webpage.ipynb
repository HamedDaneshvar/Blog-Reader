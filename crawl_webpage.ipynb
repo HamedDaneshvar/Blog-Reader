{
 "cells": [
  {
   "cell_type": "code",
   "execution_count": 5,
   "id": "educated-revolution",
   "metadata": {},
   "outputs": [],
   "source": [
    "from bs4 import BeautifulSoup\n",
    "from urllib.request import Request, urlopen\n",
    "import re\n",
    "import requests\n",
    "import json\n",
    "import uuid\n",
    "import os\n",
    "import time\n",
    "from playsound import playsound\n",
    "import wave\n",
    "import sys\n",
    "from pydub import AudioSegment\n",
    "import soundfile as sf\n",
    "import pyrubberband as pyrb"
   ]
  },
  {
   "cell_type": "markdown",
   "id": "loose-manor",
   "metadata": {},
   "source": [
    "# Getting Date From Web and Parse Html to text"
   ]
  },
  {
   "cell_type": "code",
   "execution_count": 2,
   "id": "later-cyprus",
   "metadata": {},
   "outputs": [],
   "source": [
    "class GetWebPage:\n",
    "    pass"
   ]
  },
  {
   "cell_type": "markdown",
   "id": "desirable-customs",
   "metadata": {},
   "source": [
    "## create dir for save parsed text and mp3 files"
   ]
  },
  {
   "cell_type": "code",
   "execution_count": 2,
   "id": "smart-ballot",
   "metadata": {},
   "outputs": [],
   "source": [
    "def create_dir():\n",
    "    dir_name = str(uuid.uuid1())\n",
    "    path = os.path.join(os.getcwd(), dir_name)\n",
    "\n",
    "    try:\n",
    "        os.mkdir(path)\n",
    "    except:\n",
    "        pass\n",
    "    return path\n",
    "\n",
    "# print(create_dir())"
   ]
  },
  {
   "cell_type": "markdown",
   "id": "criminal-uncertainty",
   "metadata": {},
   "source": [
    "# these lines needs comments"
   ]
  },
  {
   "cell_type": "code",
   "execution_count": 5,
   "id": "opponent-possibility",
   "metadata": {},
   "outputs": [],
   "source": [
    "url = 'https://medium.com/ironsource-levelup/aso-optimization-in-practice-how-a-game-i-made-over-the-weekend-amassed-2-million-downloads-32a7d13b093d'\n",
    "url2 = 'https://virgool.io/@hasangilak/emigration-the-great-escape-l1vk2gyegns6'"
   ]
  },
  {
   "cell_type": "code",
   "execution_count": 6,
   "id": "infinite-gallery",
   "metadata": {},
   "outputs": [],
   "source": [
    "req = Request(url, headers={'User-Agent': 'Mozilla/5.0'})\n",
    "webpage = urlopen(req)\n",
    "webpage = str(webpage.read().decode('utf-8'))"
   ]
  },
  {
   "cell_type": "code",
   "execution_count": 7,
   "id": "structured-keeping",
   "metadata": {},
   "outputs": [],
   "source": [
    "soup = BeautifulSoup(webpage, 'html.parser')"
   ]
  },
  {
   "cell_type": "markdown",
   "id": "approximate-ferry",
   "metadata": {},
   "source": [
    "## get title and author of article"
   ]
  },
  {
   "cell_type": "code",
   "execution_count": 8,
   "id": "loving-analysis",
   "metadata": {},
   "outputs": [],
   "source": [
    "# find title and author of article\n",
    "pattern = re.compile(r'([\\w ]+) \\| (by [\\w ]+) \\|')\n",
    "match = re.search(pattern, soup.title.string)\n",
    "title = match.group(1)\n",
    "author = match.group(2)"
   ]
  },
  {
   "cell_type": "markdown",
   "id": "surgical-essay",
   "metadata": {},
   "source": [
    "## get the content of article"
   ]
  },
  {
   "cell_type": "code",
   "execution_count": 9,
   "id": "south-arctic",
   "metadata": {},
   "outputs": [],
   "source": [
    "class_div = 'ab ac ae af ag dr ai aj'\n",
    "article = soup.find('body').find('div', class_=class_div)"
   ]
  },
  {
   "cell_type": "markdown",
   "id": "respective-terrain",
   "metadata": {},
   "source": [
    "## function for replace br tag to \\n"
   ]
  },
  {
   "cell_type": "code",
   "execution_count": 10,
   "id": "imported-panic",
   "metadata": {},
   "outputs": [],
   "source": [
    "def make_br_pattern():\n",
    "    br_pattern = []\n",
    "    br_pattern.append(re.compile(r'<br *\\/>'))\n",
    "    br_pattern.append(re.compile(r'<br *>'))\n",
    "    return tuple(br_pattern)"
   ]
  },
  {
   "cell_type": "code",
   "execution_count": 11,
   "id": "alone-aquarium",
   "metadata": {},
   "outputs": [],
   "source": [
    "def replace_br(tag, br_pattern):\n",
    "    for pattern in br_pattern:\n",
    "        tag = re.sub(pattern, '\\n', str(tag))\n",
    "\n",
    "    tag = BeautifulSoup(tag, 'html.parser')\n",
    "    tag = list(tag.children)\n",
    "    return tag[0]"
   ]
  },
  {
   "cell_type": "markdown",
   "id": "spiritual-asthma",
   "metadata": {},
   "source": [
    "## give the text of every tag with attention of kind tag back"
   ]
  },
  {
   "cell_type": "code",
   "execution_count": 12,
   "id": "departmental-review",
   "metadata": {},
   "outputs": [],
   "source": [
    "def get_text_value(tag, heading_hierarchy):\n",
    "    headings = ['h1', 'h2', 'h3', 'h4', 'h5', 'h6']\n",
    "    if tag.name == 'figure':\n",
    "        text_of_img = list()\n",
    "        for img in tag.find_all('img'):\n",
    "            if len(img.attrs['alt']) > 0:\n",
    "                text_of_img.append('image description: %s' %img.attrs['alt'])\n",
    "            else:\n",
    "                text_of_img.append('this image doesn\\'t have any description')\n",
    "        return '\\n'.join(text_of_img)\n",
    "    \n",
    "    elif tag.name == 'p':\n",
    "        return tag.get_text()\n",
    "    \n",
    "    elif tag.name in headings:\n",
    "        heading_hierarchy[tag.name] += 1\n",
    "        h = tag.name.replace('h', 'heading ')\n",
    "        if len(tag.get_text()) > 0:\n",
    "            return '{} number {}: {}'.format(h, heading_hierarchy[tag.name], tag.get_text())\n",
    "        return\n",
    "    \n",
    "    elif tag.name == 'ul':\n",
    "        # just for one level deep\n",
    "        text_of_li = list()\n",
    "        for li in tag.find_all('li'):\n",
    "            if len(li.get_text()) > 0:\n",
    "                text_of_li.append('item: %s' %li.get_text())\n",
    "        return '\\n'.join(text_of_li)\n",
    "    \n",
    "    elif tag.name == 'ol':\n",
    "        # just for one level deep\n",
    "        text_of_li = list()\n",
    "        counter = 1\n",
    "        for li in tag.find_all('li'):\n",
    "            if len(li.get_text()) > 0:\n",
    "                text_of_li.append('item %s: %s' %(counter, li.get_text()))\n",
    "                counter += 1\n",
    "        return '\\n'.join(text_of_li)\n",
    "    \n",
    "    else:\n",
    "        return tag.get_text()"
   ]
  },
  {
   "cell_type": "markdown",
   "id": "juvenile-junior",
   "metadata": {},
   "source": [
    "## break the text to max 200 character line"
   ]
  },
  {
   "cell_type": "code",
   "execution_count": 13,
   "id": "binding-rabbit",
   "metadata": {},
   "outputs": [],
   "source": [
    "def breaktomaxlen(text):\n",
    "    # split text with '.'\n",
    "    pattern = re.compile(r'[^\\d](\\.)')\n",
    "    indexs = []\n",
    "    for index in pattern.finditer(text):\n",
    "        indexs.append(index.start() + 1)\n",
    "\n",
    "    lines = []\n",
    "    before = 0\n",
    "    for index in indexs:\n",
    "        line = text[before:index].strip()\n",
    "        if len(line) > 0:\n",
    "            lines.append(line)\n",
    "            before = index + 1\n",
    "    \n",
    "    # split all line was splited with . to split again with separate maxlen = 200 char\n",
    "    text = lines[:]\n",
    "    lines = []\n",
    "    for line in text:\n",
    "        if len(line) <= 200:\n",
    "            lines.append(line)\n",
    "        else:\n",
    "            temp = []\n",
    "            while len(line) > 200:\n",
    "                index = 200\n",
    "                while line[index] != ' ':\n",
    "                    index -= 1\n",
    "                temp.append(line[:index])\n",
    "                line = line[index+1:]\n",
    "            temp.append(line)\n",
    "            lines.extend(temp)\n",
    "    return lines\n",
    "\n",
    "\n",
    "# text = 'Organic traffic and app store optimization must be considered when developing game growth channels. We made a simple arcade game, which had only a 15% Day 1 retention rate, and our LTV was less than $0.02 per user. But if we had a high quality game with, say, a $0.20 LTV, we could have made good money.'\n",
    "# print(breaktomaxlen(text))"
   ]
  },
  {
   "cell_type": "markdown",
   "id": "choice-hygiene",
   "metadata": {},
   "source": [
    "## get the text of article and clean that\n",
    "- ### if figure -> find alt of img tag and get the value with format ->  \"Image description\" + \"alt\"  -> -------- is done\n",
    "- ### if heading -> get the text of heading with foramt -> \"headign\" + \"text heading\"\n",
    "- ### if ul or ol -> get the list of every li tag with format -> if ul (\"li\" + \"text li\") else (\"number\" + \"text li\")"
   ]
  },
  {
   "cell_type": "code",
   "execution_count": 14,
   "id": "foster-camel",
   "metadata": {},
   "outputs": [],
   "source": [
    "def create_parsed_text(path):\n",
    "    tags = list(article.children)\n",
    "    tags = tags[1:]\n",
    "\n",
    "    # compile one time br pattern\n",
    "    br_pattern = make_br_pattern()\n",
    "\n",
    "    # for tree of heading and Hierarchy headings\n",
    "    heading_hierarchy = {'h1':0, 'h2':0, 'h3':0, 'h4':0, 'h5':0, 'h6':0}\n",
    "    with open(os.path.join(path, 'textparsed.txt'), 'w', encoding='utf-8') as file:\n",
    "        for tag in tags:\n",
    "            tag = replace_br(tag, br_pattern)\n",
    "            text = get_text_value(tag, heading_hierarchy)\n",
    "    #         file.write(text + '\\n')\n",
    "            for t in text.split('\\n'):\n",
    "                if len(t) > 200:\n",
    "                    t = breaktomaxlen(t)\n",
    "                    file.write('\\n'.join(t) + '\\n')\n",
    "                else:\n",
    "                    file.write(t + '\\n')"
   ]
  },
  {
   "cell_type": "markdown",
   "id": "ongoing-sunglasses",
   "metadata": {},
   "source": [
    "## this is for test option request to soundoftext.com"
   ]
  },
  {
   "cell_type": "code",
   "execution_count": 15,
   "id": "distributed-processor",
   "metadata": {},
   "outputs": [],
   "source": [
    "# request option method\n",
    "def option_req():\n",
    "    option_url = 'https://api.soundoftext.com/sounds'\n",
    "    try:\n",
    "        response = requests.options(option_url)\n",
    "        if response.status_code == 204 or response.status_code == 200:\n",
    "            print('options request is OK(No Content)')\n",
    "            return True\n",
    "    except:\n",
    "        pass"
   ]
  },
  {
   "cell_type": "markdown",
   "id": "imperial-sterling",
   "metadata": {},
   "source": [
    "## this is for test post method of soundoftext.com\n",
    "### warning: just send a single line means no \\n character in line\n",
    "### important thing: max len every query is not more than 200 character"
   ]
  },
  {
   "cell_type": "code",
   "execution_count": 16,
   "id": "hispanic-lightweight",
   "metadata": {},
   "outputs": [],
   "source": [
    "text = 'this some text for test and get the sound of this sentence'\n",
    "def post_req(text):\n",
    "    if len(text) > 1:\n",
    "        post_url = 'https://api.soundoftext.com/sounds'\n",
    "        payload = {\"engine\":\"Google\",\"data\":{\"text\":text,\"voice\":\"en-US\"}}\n",
    "        response = requests.post(post_url, json=payload)\n",
    "        #convert response to json format\n",
    "        r_json = response.json()\n",
    "        if r_json['success'] == True:\n",
    "            return True, r_json['id']\n",
    "        else:\n",
    "            return False, '-1'\n",
    "    else:\n",
    "        return False, '-1'\n",
    "\n",
    "# suc, id = post_req(text)\n",
    "# print('{}\\n{}'.format(suc, id))"
   ]
  },
  {
   "cell_type": "markdown",
   "id": "moderate-enlargement",
   "metadata": {},
   "source": [
    "## this is for test get method of soundoftext.com to get location of mp3 voice file"
   ]
  },
  {
   "cell_type": "code",
   "execution_count": 17,
   "id": "presidential-sauce",
   "metadata": {},
   "outputs": [],
   "source": [
    "id = '9dd2b5a0-871f-11eb-a855-797a56b27202'\n",
    "def getloc_req(id):\n",
    "    getloc_url = 'https://api.soundoftext.com/sounds/' + id\n",
    "    response = requests.get(getloc_url)\n",
    "    #convert response to json format\n",
    "    r_json = response.json()\n",
    "    if r_json['status'] == 'Done':\n",
    "        return True, r_json['location']\n",
    "    else:\n",
    "        return False, 'Invalid URL'\n",
    "    \n",
    "# status, url = getloc_req(id)\n",
    "# print('{}\\n{}'.format(status, url))"
   ]
  },
  {
   "cell_type": "markdown",
   "id": "related-thread",
   "metadata": {},
   "source": [
    "## this is for test get method of soundoftext.com to get mp3 voice file"
   ]
  },
  {
   "cell_type": "code",
   "execution_count": 18,
   "id": "incoming-search",
   "metadata": {},
   "outputs": [],
   "source": [
    "def download_voice(mp3_url,filename, path):\n",
    "    response = requests.get(mp3_url)\n",
    "    print(response.status_code)\n",
    "    if response.status_code == 200 or response.status_code == 204:\n",
    "        with open(os.path.join(path, filename + '.mp3'), 'wb') as f:\n",
    "            f.write(response.content)\n",
    "        time.sleep(1)\n",
    "        return True, 'file saved!'\n",
    "    else:\n",
    "        return False, 'files doesn\\'t save!'\n",
    "    \n",
    "\n",
    "# mp3_url = 'https://soundoftext.nyc3.digitaloceanspaces.com/9dd2b5a0-871f-11eb-a855-797a56b27202.mp3'\n",
    "# status, message = download_voice(mp3_url, '1')\n",
    "# print(message)"
   ]
  },
  {
   "cell_type": "markdown",
   "id": "several-prescription",
   "metadata": {},
   "source": [
    "## 4 in 1: four funcion of request to get mp3 file in one function"
   ]
  },
  {
   "cell_type": "code",
   "execution_count": 19,
   "id": "binding-breathing",
   "metadata": {},
   "outputs": [],
   "source": [
    "def send_req(path, text, file_name):\n",
    "    # option method\n",
    "    if option_req():\n",
    "        pass\n",
    "    else:\n",
    "        raise Exception('Option request gonna error')\n",
    "    \n",
    "    # post method\n",
    "    success, id = post_req(text)\n",
    "    if success:\n",
    "        pass\n",
    "    else:\n",
    "        raise Exception('post request gonna error')\n",
    "    \n",
    "    # first get method to get location of mp3 file\n",
    "    status, url = getloc_req(id)\n",
    "    if status:\n",
    "        pass\n",
    "    else:\n",
    "        raise Exception('first get method gonna error')\n",
    "    \n",
    "    # last get method to download ans save the mp3 file\n",
    "    status, message = download_voice(mp3_url, file_name, path)\n",
    "    if status:\n",
    "        return True\n",
    "    else:\n",
    "        raise Exception('last get method gonna error')"
   ]
  },
  {
   "cell_type": "markdown",
   "id": "representative-simpson",
   "metadata": {},
   "source": [
    "### this func for request of image des once time"
   ]
  },
  {
   "cell_type": "code",
   "execution_count": 21,
   "id": "voluntary-camel",
   "metadata": {},
   "outputs": [],
   "source": [
    "def alt_text_req(path):\n",
    "    image_des = 'this image doesn\\'t have any description'\n",
    "    if send_req(path, image_des, '0'):\n",
    "        print('image description is saved!')"
   ]
  },
  {
   "cell_type": "markdown",
   "id": "conventional-hopkins",
   "metadata": {},
   "source": [
    "### copy 0.mp3 file that contain sound of image description to line number.mp3"
   ]
  },
  {
   "cell_type": "code",
   "execution_count": 22,
   "id": "paperback-asset",
   "metadata": {},
   "outputs": [],
   "source": [
    "def copy_mp3(path, line_number):\n",
    "    zero = ''\n",
    "    with open(os.path.join(path, '0.mp3'), 'rb') as file_source:\n",
    "        zere = file_source.read()\n",
    "    with open(os.path.join(path, line_number + '.mp3'), 'wb') as file_destination:\n",
    "        try:\n",
    "            file_destination.write(zero)\n",
    "        except:\n",
    "            raise Exception('Copy from 0.mp3 isn\\'t done!')"
   ]
  },
  {
   "cell_type": "markdown",
   "id": "enhanced-vinyl",
   "metadata": {},
   "source": [
    "## downlaod sound of all lines and save sound relative directory"
   ]
  },
  {
   "cell_type": "code",
   "execution_count": 23,
   "id": "continent-league",
   "metadata": {},
   "outputs": [],
   "source": [
    "def download_all_sound(path):\n",
    "    with open(os.path.join(path, 'textparsed.txt'), 'r', encoding='utf-8') as file:\n",
    "        # for finish the read of line\n",
    "        counter = 0\n",
    "\n",
    "        # save mp3 file description of iamge doesn't alt text\n",
    "        alt_text_req(path)\n",
    "        image_des = 'this image doesn\\'t have any description'\n",
    "        \n",
    "        line = file.readline().strip()\n",
    "        line_number = 0\n",
    "        while True:\n",
    "            # send request line and save the file\n",
    "            if line == image_des:\n",
    "                line_number += 1\n",
    "                # save copy of 0.mp3 to linenumber.mp3\n",
    "                copy_mp3(path, str(line_number))\n",
    "                continue\n",
    "            line_number += 1\n",
    "            if send_req(path, line, str(line_number)):\n",
    "                print('sound of line {} is saved!'.format(line_number))\n",
    "            line = file.readline().strip()\n",
    "            if len(line) <= 1:\n",
    "                counter += 1\n",
    "            if counter > 20:\n",
    "                break"
   ]
  },
  {
   "cell_type": "markdown",
   "id": "possible-smile",
   "metadata": {},
   "source": [
    "### this func for play mp3 sound with line number"
   ]
  },
  {
   "cell_type": "code",
   "execution_count": 29,
   "id": "external-conducting",
   "metadata": {},
   "outputs": [],
   "source": [
    "def play_sound(path, line_number):\n",
    "    playsound(os.path.join(path, line_number + '.mp3'))"
   ]
  },
  {
   "cell_type": "markdown",
   "id": "arbitrary-killer",
   "metadata": {},
   "source": [
    "### this func for delete file of mp3 sound with line number"
   ]
  },
  {
   "cell_type": "code",
   "execution_count": 8,
   "id": "controlling-insulin",
   "metadata": {},
   "outputs": [],
   "source": [
    "def remove_sound(path, line_number, format_file):\n",
    "    # format file like .mp3\n",
    "    os.remove(os.path.join(path, line_number + format_file))"
   ]
  },
  {
   "cell_type": "code",
   "execution_count": 2,
   "id": "wound-unemployment",
   "metadata": {},
   "outputs": [],
   "source": [
    "def remove_dir(path):\n",
    "    os.rmdir(path)"
   ]
  },
  {
   "cell_type": "markdown",
   "id": "willing-monthly",
   "metadata": {},
   "source": [
    "### convert mp3 file for speed playback"
   ]
  },
  {
   "cell_type": "code",
   "execution_count": 3,
   "id": "broad-throw",
   "metadata": {},
   "outputs": [],
   "source": [
    "def convertforspeed(path, line_number, speed):\n",
    "    sound = AudioSegment.from_mp3(os.path.join(path, line_number + '.mp3'))\n",
    "    sound.export(\"file.wav\", format=\"wav\")\n",
    "    \n",
    "    y, sr = sf.read(\"file.wav\")\n",
    "    # Play back at extra desire speed\n",
    "    y_stretch = pyrb.time_stretch(y, sr, speed)\n",
    "    # Play back extra desire tones\n",
    "    y_shift = pyrb.pitch_shift(y, sr, speed)\n",
    "    sf.write(\"analyzed_filepathXspeed.wav\", y_stretch, sr, format='wav')\n",
    "    \n",
    "    # convert wav file created to mp3 file\n",
    "    sound = AudioSegment.from_wav(\"analyzed_filepathXspeed.wav\")\n",
    "    sound.export(os.path.join(path, line_number + '.mp3'), format=\"mp3\")\n",
    "    \n",
    "    # delete the extra file line file.wav and analyzed_filepathXspeed.wav\n",
    "    remove_sound(path, 'file', '.wav')\n",
    "    remove_sound(path, 'analyzed_filepathXspeed', '.wav')\n",
    "    \n",
    "# path = os.getcwd()\n",
    "# convertforspeed(path, 'sometext', 0.9)"
   ]
  },
  {
   "cell_type": "code",
   "execution_count": 9,
   "id": "completed-carolina",
   "metadata": {},
   "outputs": [],
   "source": []
  },
  {
   "cell_type": "code",
   "execution_count": null,
   "id": "varying-stewart",
   "metadata": {},
   "outputs": [],
   "source": []
  }
 ],
 "metadata": {
  "kernelspec": {
   "display_name": "Python 3",
   "language": "python",
   "name": "python3"
  },
  "language_info": {
   "codemirror_mode": {
    "name": "ipython",
    "version": 3
   },
   "file_extension": ".py",
   "mimetype": "text/x-python",
   "name": "python",
   "nbconvert_exporter": "python",
   "pygments_lexer": "ipython3",
   "version": "3.9.1"
  }
 },
 "nbformat": 4,
 "nbformat_minor": 5
}
